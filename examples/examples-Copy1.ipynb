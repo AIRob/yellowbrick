{
 "cells": [
  {
   "cell_type": "code",
   "execution_count": 1,
   "metadata": {},
   "outputs": [],
   "source": [
    "%matplotlib inline"
   ]
  },
  {
   "cell_type": "markdown",
   "metadata": {},
   "source": [
    "# Yellowbrick Examples \n",
    "\n",
    "Ths notebook is a sample of the examples that yellowbrick provides."
   ]
  },
  {
   "cell_type": "code",
   "execution_count": 2,
   "metadata": {},
   "outputs": [],
   "source": [
    "import os\n",
    "import sys \n",
    "\n",
    "# Modify the path \n",
    "sys.path.append(\"..\")\n",
    "\n",
    "import numpy as np \n",
    "import pandas as pd\n",
    "import yellowbrick as yb \n",
    "import matplotlib as mpl \n",
    "import matplotlib.pyplot as plt \n",
    "\n",
    "mpl.rcParams[\"figure.figsize\"] = (9,6)"
   ]
  },
  {
   "cell_type": "code",
   "execution_count": 9,
   "metadata": {},
   "outputs": [],
   "source": [
    "csv_path = \"/Users/ndanielsen/ddl/yellowbrick/examples/data/credit/credit.csv\"\n",
    "import csv"
   ]
  },
  {
   "cell_type": "code",
   "execution_count": 11,
   "metadata": {},
   "outputs": [
    {
     "data": {
      "text/plain": [
       "['limit',\n",
       " 'sex',\n",
       " 'edu',\n",
       " 'married',\n",
       " 'age',\n",
       " 'apr_delay',\n",
       " 'may_delay',\n",
       " 'jun_delay',\n",
       " 'jul_delay',\n",
       " 'aug_delay',\n",
       " 'sep_delay',\n",
       " 'apr_bill',\n",
       " 'may_bill',\n",
       " 'jun_bill',\n",
       " 'jul_bill',\n",
       " 'aug_bill',\n",
       " 'sep_bill',\n",
       " 'apr_pay',\n",
       " 'may_pay',\n",
       " 'jun_pay',\n",
       " 'jul_pay',\n",
       " 'aug_pay',\n",
       " 'sep_pay',\n",
       " 'default']"
      ]
     },
     "execution_count": 11,
     "metadata": {},
     "output_type": "execute_result"
    }
   ],
   "source": [
    "temp"
   ]
  },
  {
   "cell_type": "code",
   "execution_count": 20,
   "metadata": {},
   "outputs": [
    {
     "name": "stdout",
     "output_type": "stream",
     "text": [
      "[[             nan              nan              nan ...,              nan\n",
      "               nan              nan]\n",
      " [  2.00000000e+04   2.00000000e+00   2.00000000e+00 ...,   0.00000000e+00\n",
      "    0.00000000e+00   1.00000000e+00]\n",
      " [  1.20000000e+05   2.00000000e+00   2.00000000e+00 ...,   0.00000000e+00\n",
      "    2.00000000e+03   1.00000000e+00]\n",
      " ..., \n",
      " [  3.00000000e+04   1.00000000e+00   2.00000000e+00 ...,   2.00000000e+03\n",
      "    3.10000000e+03   1.00000000e+00]\n",
      " [  8.00000000e+04   1.00000000e+00   3.00000000e+00 ...,   5.29640000e+04\n",
      "    1.80400000e+03   1.00000000e+00]\n",
      " [  5.00000000e+04   1.00000000e+00   2.00000000e+00 ...,   1.00000000e+03\n",
      "    1.00000000e+03   1.00000000e+00]]\n"
     ]
    }
   ],
   "source": [
    "with open(csv_path) as f:\n",
    "    data_file = csv.reader(f)\n",
    "    feature_names = next(data_file)\n",
    "#     n_samples = int(temp[0])\n",
    "    n_features = len(feature_names)\n",
    "    \n",
    "    data = np.genfromtxt(csv_path, delimiter=\",\", skip_header=False)\n",
    "    print(data)\n",
    "#     data = np.empty((n_samples, n_features))\n",
    "#     target = np.empty((n_samples,))\n",
    "#     temp = next(data_file)  # names of features\n",
    "\n",
    "\n",
    "#     for i, d in enumerate(data_file):\n",
    "#         data[i] = np.asarray(d[:-1], dtype=np.float64)\n",
    "#         target[i] = np.asarray(d[-1], dtype=np.float64)\n",
    "\n",
    "# if return_X_y:\n",
    "#     return data, target\n",
    "\n",
    "# values =  Bunch(data=data,\n",
    "#              target=target,\n",
    "#              # last column is target value\n",
    "#              feature_names=feature_names[:-1],\n",
    "#                  )"
   ]
  },
  {
   "cell_type": "code",
   "execution_count": 16,
   "metadata": {},
   "outputs": [
    {
     "ename": "ValueError",
     "evalue": "I/O operation on closed file.",
     "output_type": "error",
     "traceback": [
      "\u001b[0;31m---------------------------------------------------------------------------\u001b[0m",
      "\u001b[0;31mValueError\u001b[0m                                Traceback (most recent call last)",
      "\u001b[0;32m<ipython-input-16-5c4cb6acd1fd>\u001b[0m in \u001b[0;36m<module>\u001b[0;34m()\u001b[0m\n\u001b[0;32m----> 1\u001b[0;31m \u001b[0mlist\u001b[0m\u001b[0;34m(\u001b[0m\u001b[0mdata_file\u001b[0m\u001b[0;34m)\u001b[0m\u001b[0;34m\u001b[0m\u001b[0m\n\u001b[0m",
      "\u001b[0;31mValueError\u001b[0m: I/O operation on closed file."
     ]
    }
   ],
   "source": []
  },
  {
   "cell_type": "code",
   "execution_count": null,
   "metadata": {},
   "outputs": [],
   "source": []
  }
 ],
 "metadata": {
  "anaconda-cloud": {},
  "kernelspec": {
   "display_name": "Python 3",
   "language": "python",
   "name": "python3"
  },
  "language_info": {
   "codemirror_mode": {
    "name": "ipython",
    "version": 3
   },
   "file_extension": ".py",
   "mimetype": "text/x-python",
   "name": "python",
   "nbconvert_exporter": "python",
   "pygments_lexer": "ipython3",
   "version": "3.5.2"
  }
 },
 "nbformat": 4,
 "nbformat_minor": 1
}
